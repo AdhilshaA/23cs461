{
  "cells": [
    {
      "cell_type": "markdown",
      "metadata": {
        "id": "DF3rDvP9QSQL"
      },
      "source": [
        "## Practice work 1\n",
        "Create a neural network capable of multiplication"
      ]
    },
    {
      "cell_type": "code",
      "execution_count": null,
      "metadata": {
        "id": "-i51SNmVO0Ev"
      },
      "outputs": [],
      "source": [
        "# Import libraries\n",
        "import torch\n",
        "import torch.nn as nn\n",
        "import torch.optim as optim"
      ]
    },
    {
      "cell_type": "code",
      "execution_count": null,
      "metadata": {
        "id": "439-SlOqQAy4"
      },
      "outputs": [],
      "source": [
        "# Create a dataset\n",
        "# x, y, z\n",
        "# max_value = 10\n",
        "\n",
        "class MultDataset(torch.utils.data.Dataset):\n",
        "\n",
        "  def __init__(self, max_value = 10):\n",
        "    self.data = []\n",
        "    for x in range(1, max_value + 1):\n",
        "      for y in range(1, max_value + 1):\n",
        "        self.data.append((x,y,x*y))\n",
        "\n",
        "  def __len__(self):\n",
        "    return len(self.data)\n",
        "\n",
        "  # Create a getitem function.\n",
        "  def __getitem__(self,idx):\n",
        "      return torch.tensor(self.data[idx][:2], dtype = torch.float32), torch.tensor(self.data[idx][-1], dtype = torch.float32)\n"
      ]
    },
    {
      "cell_type": "code",
      "execution_count": null,
      "metadata": {
        "id": "V3wSp2JHYuaN"
      },
      "outputs": [],
      "source": [
        "class MultiplicatorNN(nn.Module):\n",
        "  def __init__(self, inputsize, hiddensize, outputsize):\n",
        "    super(MultiplicatorNN, self).__init__()\n",
        "    self.fc1 = nn.Linear(inputsize, hiddensize)\n",
        "    self.relu = nn.ReLU()\n",
        "    self.fc2 = nn.Linear(hiddensize, outputsize)\n",
        "\n",
        "  def forward(self, x):\n",
        "    x = self.fc1(x)\n",
        "    x = self.relu(x)\n",
        "    x = self.fc2(x) # x * y\n",
        "    return x"
      ]
    },
    {
      "cell_type": "code",
      "execution_count": null,
      "metadata": {
        "id": "4oiiEUz-Xv19"
      },
      "outputs": [],
      "source": [
        "batchsize = 10\n",
        "inputsize = 2\n",
        "hiddensize = 10\n",
        "outputsize = 1\n",
        "epochs = 20000\n",
        "learning_rate = 0.001"
      ]
    },
    {
      "cell_type": "code",
      "execution_count": null,
      "metadata": {
        "id": "Ok4Rvu6nWj5i"
      },
      "outputs": [],
      "source": [
        "dataset = MultDataset()\n",
        "dataloader = torch.utils.data.DataLoader(dataset, batch_size= batchsize, shuffle= True)\n",
        "\n",
        "model = MultiplicatorNN(inputsize, hiddensize,outputsize )\n",
        "criterion = nn.L1Loss()\n",
        "optimizer = optim.Adam(model.parameters(), learning_rate)"
      ]
    },
    {
      "cell_type": "code",
      "execution_count": null,
      "metadata": {
        "colab": {
          "base_uri": "https://localhost:8080/"
        },
        "id": "kKnI3mWPdIzM",
        "outputId": "d99db278-d1b7-464d-c8bb-01d2e8d3e075"
      },
      "outputs": [
        {
          "name": "stdout",
          "output_type": "stream",
          "text": [
            "0 24.52703285217285\n",
            "1000 3.1472697257995605\n",
            "2000 1.1733883619308472\n",
            "3000 1.0793309211730957\n",
            "4000 1.1029781103134155\n",
            "5000 0.8447265625\n",
            "6000 1.1194226741790771\n",
            "7000 1.1023192405700684\n",
            "8000 0.7999466061592102\n",
            "9000 0.718449592590332\n",
            "10000 0.8047949075698853\n",
            "11000 0.9710413217544556\n",
            "12000 1.0426712036132812\n",
            "13000 1.4687831401824951\n",
            "14000 0.39705514907836914\n",
            "15000 0.8843557238578796\n",
            "16000 0.5418485403060913\n",
            "17000 1.0814799070358276\n",
            "18000 0.4261765480041504\n",
            "19000 1.0708951950073242\n"
          ]
        }
      ],
      "source": [
        "for num_epoch in range(epochs):\n",
        "  for x, y in dataloader:\n",
        "    optimizer.zero_grad()\n",
        "    output = model(x)\n",
        "    loss = criterion(output, y.unsqueeze(-1))\n",
        "    loss.backward()\n",
        "    optimizer.step()\n",
        "  if num_epoch%1000 == 0:\n",
        "    print(num_epoch, loss.item())"
      ]
    },
    {
      "cell_type": "code",
      "execution_count": null,
      "metadata": {
        "colab": {
          "base_uri": "https://localhost:8080/"
        },
        "id": "8H7f94T6iQ3x",
        "outputId": "0f7c22e6-454c-4c9b-b5fe-9ea54d60d3df"
      },
      "outputs": [
        {
          "name": "stdout",
          "output_type": "stream",
          "text": [
            "tensor([23.7143]) 24\n"
          ]
        }
      ],
      "source": [
        "with torch.no_grad():\n",
        "  output = model(torch.tensor([4,6], dtype = torch.float32))\n",
        "  print(output, 4*6)"
      ]
    }
  ],
  "metadata": {
    "colab": {
      "provenance": []
    },
    "kernelspec": {
      "display_name": "Python 3",
      "name": "python3"
    },
    "language_info": {
      "name": "python"
    }
  },
  "nbformat": 4,
  "nbformat_minor": 0
}
